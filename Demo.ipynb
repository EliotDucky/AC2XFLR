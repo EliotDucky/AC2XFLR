{
 "cells": [
  {
   "cell_type": "markdown",
   "metadata": {},
   "source": [
    "# Aircraft to XFLR Demonstration "
   ]
  },
  {
   "cell_type": "markdown",
   "metadata": {},
   "source": [
    "This IPython notebook demonstrates how to use AC2XFLR to convert your aircraft geometry into an XML file which can be imported by XFLR5. This tool can produce a planform view of your wing to verify that your geometry has been correctly enterred.\n",
    "\n",
    "First, import the python file."
   ]
  },
  {
   "cell_type": "code",
   "execution_count": 1,
   "metadata": {},
   "outputs": [],
   "source": [
    "from AC2XFLR import *"
   ]
  },
  {
   "cell_type": "markdown",
   "metadata": {},
   "source": [
    "## Wing (Includes tail surfaces)"
   ]
  },
  {
   "cell_type": "markdown",
   "metadata": {},
   "source": [
    "To produce a wing, several parameters can be defined. To generate a horizontal or vertical stabiliser, also use this class.\n",
    "\n",
    "\n",
    "| Parameter       | Description                                                                                                                                                                                                                | Default |\n",
    "|----------------:|:----------------------------------------------------------------------------------------------------------------------------------------------------------------------|:--------|\n",
    "| foil            | The aerofoil name. This needs to be the same as it is defined in XFLR5. This must already be loaded under the same name in XFLR under File → Direct Foil Design. A NACA foil can be defined simply with Foil → Naca Foils. | \"NACA 1212\" |\n",
    "| angle_of_attack | The angle of attack in degrees | 0.0 |\n",
    "| span            | The wingspan in metres from tip to tip. This is not a wing semi-span. | 8.0 |\n",
    "| root_chord      | The chord length in metres of the wing at spanwise position y = 0. | 1.0 |\n",
    "| mass            | The mass of the wing in kilograms, which is used in XFLR5's stability calculations. | 50.0 |\n",
    "| shape_args      | The shape arguments dictionary. This contains unique properties to the specific planform shape. Currently only elliptical profiles are supported. See the shape_args table below. | {\"shape\": \"ellipse\",\n",
    "\t\t\t\"fsmf\": 0.25} |\n",
    "| _type           | The type of wing. Is it a \"mainwing\", a \"horizontal stabiliser\", or \"vertical stabiliser\"? | \"mainwing\" |\n",
    "| symmetric_fin   | If this is a vertical stabiliser, is it symmetrical (reflected in the vertical (z) axis)?   | False |\n",
    "| double_fin      | If this is a vertical stabiliser, is it to be doubled (reflected in the y axis)?            | False |\n",
    "| draw            | Do you want to see a planform plot of the wing?                                             | False |"
   ]
  },
  {
   "cell_type": "markdown",
   "metadata": {},
   "source": [
    "The `shape_args` is a dictionary with completely different keys depending on the type of shape used.\n",
    "\n",
    "| Shape | Key | Description |\n",
    "|:----|:-------|:-------|\n",
    "| \"ellipse\" | \"fsmf\" | The forward semi-minor axis fraction. Defines the fraction of the ellipse bounded by the tips of the leading edge, see plot below |"
   ]
  },
  {
   "cell_type": "markdown",
   "metadata": {},
   "source": [
    "### Example 1: Elliptical Main Wing"
   ]
  },
  {
   "cell_type": "markdown",
   "metadata": {},
   "source": [
    "foil = \"NACA 0012\"\n",
    "angle_of_attack = 15 #deg\n",
    "span = 6 #m\n",
    "root_chord = 0.8 #m\n",
    "mass = 40 #kg\n",
    "shape_args = {\"shape\":\"ellipse\", \"fsmf\": 0.75}\n",
    "_type = \"mainwing\"\n",
    "symmetric_fin = False\n",
    "double_fin = False\n",
    "draw = True\n",
    "my_wing = Wing(foil, angle_of_attack, span, root_chord, mass, shape_args, _type, symmetric_fin, double_fin, draw)"
   ]
  },
  {
   "cell_type": "markdown",
   "metadata": {},
   "source": [
    "If the geometry looks good, convert your wing to XML.\n",
    "\n",
    "This XML file will be exported to the same folder as AC2XFLR.py"
   ]
  },
  {
   "cell_type": "code",
   "execution_count": 4,
   "metadata": {},
   "outputs": [
    {
     "name": "stdout",
     "output_type": "stream",
     "text": [
      "Successfully created file wing0.xml\n"
     ]
    }
   ],
   "source": [
    "my_wing.wingToXML()"
   ]
  },
  {
   "cell_type": "markdown",
   "metadata": {},
   "source": [
    "The wing by itself can be imported alone onto the aircraft in the \"Define\" context window.\n",
    "\n",
    "[wing import](https://github.com/EliotDucky/AC2XFLR/docs_source/wing_import.png)"
   ]
  }
 ],
 "metadata": {
  "kernelspec": {
   "display_name": "Python 3",
   "language": "python",
   "name": "python3"
  },
  "language_info": {
   "codemirror_mode": {
    "name": "ipython",
    "version": 3
   },
   "file_extension": ".py",
   "mimetype": "text/x-python",
   "name": "python",
   "nbconvert_exporter": "python",
   "pygments_lexer": "ipython3",
   "version": "3.7.7"
  }
 },
 "nbformat": 4,
 "nbformat_minor": 4
}
